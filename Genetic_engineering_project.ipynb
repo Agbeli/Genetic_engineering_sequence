{
  "nbformat": 4,
  "nbformat_minor": 0,
  "metadata": {
    "colab": {
      "name": "Genetic_engineering_project.ipynb",
      "provenance": [],
      "toc_visible": true,
      "machine_shape": "hm",
      "include_colab_link": true
    },
    "kernelspec": {
      "name": "python3",
      "display_name": "Python 3"
    },
    "accelerator": "GPU"
  },
  "cells": [
    {
      "cell_type": "markdown",
      "metadata": {
        "id": "view-in-github",
        "colab_type": "text"
      },
      "source": [
        "<a href=\"https://colab.research.google.com/github/Agbeli/Genetic_engineering_sequence/blob/main/Genetic_engineering_project.ipynb\" target=\"_parent\"><img src=\"https://colab.research.google.com/assets/colab-badge.svg\" alt=\"Open In Colab\"/></a>"
      ]
    },
    {
      "cell_type": "code",
      "metadata": {
        "id": "mnWT6xUNRl8M",
        "colab": {
          "base_uri": "https://localhost:8080/"
        },
        "outputId": "408567ba-8698-4a21-af0b-a3008a5ca380"
      },
      "source": [
        "# Mount google drive\n",
        "from google.colab import drive\n",
        "drive.mount('/content/drive')"
      ],
      "execution_count": 1,
      "outputs": [
        {
          "output_type": "stream",
          "text": [
            "Drive already mounted at /content/drive; to attempt to forcibly remount, call drive.mount(\"/content/drive\", force_remount=True).\n"
          ],
          "name": "stdout"
        }
      ]
    },
    {
      "cell_type": "code",
      "metadata": {
        "id": "2BH_CXuBTo8a",
        "colab": {
          "base_uri": "https://localhost:8080/"
        },
        "outputId": "f9ee13fa-4a10-4e71-d165-93d81b3a082d"
      },
      "source": [
        "%cd \"/content/drive/My Drive/Genetic_engineering_project\""
      ],
      "execution_count": 2,
      "outputs": [
        {
          "output_type": "stream",
          "text": [
            "/content/drive/.shortcut-targets-by-id/1fRQiQ4vPDq3WW-oCXm5kwFbSGPbNpjl9/Genetic_engineering_project\n"
          ],
          "name": "stdout"
        }
      ]
    },
    {
      "cell_type": "code",
      "metadata": {
        "id": "cGjvNSE0h7-a",
        "colab": {
          "base_uri": "https://localhost:8080/"
        },
        "outputId": "eb1bc5fc-e574-4a94-8277-2f71d16bf544"
      },
      "source": [
        "!pip install --upgrade torch\n",
        "!pip install --upgrade skorch"
      ],
      "execution_count": 3,
      "outputs": [
        {
          "output_type": "stream",
          "text": [
            "Requirement already up-to-date: torch in /usr/local/lib/python3.6/dist-packages (1.7.0+cu101)\n",
            "Requirement already satisfied, skipping upgrade: dataclasses in /usr/local/lib/python3.6/dist-packages (from torch) (0.7)\n",
            "Requirement already satisfied, skipping upgrade: future in /usr/local/lib/python3.6/dist-packages (from torch) (0.16.0)\n",
            "Requirement already satisfied, skipping upgrade: numpy in /usr/local/lib/python3.6/dist-packages (from torch) (1.18.5)\n",
            "Requirement already satisfied, skipping upgrade: typing-extensions in /usr/local/lib/python3.6/dist-packages (from torch) (3.7.4.3)\n",
            "Requirement already up-to-date: skorch in /usr/local/lib/python3.6/dist-packages (0.9.0)\n",
            "Requirement already satisfied, skipping upgrade: scipy>=1.1.0 in /usr/local/lib/python3.6/dist-packages (from skorch) (1.4.1)\n",
            "Requirement already satisfied, skipping upgrade: tqdm>=4.14.0 in /usr/local/lib/python3.6/dist-packages (from skorch) (4.41.1)\n",
            "Requirement already satisfied, skipping upgrade: numpy>=1.13.3 in /usr/local/lib/python3.6/dist-packages (from skorch) (1.18.5)\n",
            "Requirement already satisfied, skipping upgrade: scikit-learn>=0.19.1 in /usr/local/lib/python3.6/dist-packages (from skorch) (0.22.2.post1)\n",
            "Requirement already satisfied, skipping upgrade: tabulate>=0.7.7 in /usr/local/lib/python3.6/dist-packages (from skorch) (0.8.7)\n",
            "Requirement already satisfied, skipping upgrade: joblib>=0.11 in /usr/local/lib/python3.6/dist-packages (from scikit-learn>=0.19.1->skorch) (0.17.0)\n"
          ],
          "name": "stdout"
        }
      ]
    },
    {
      "cell_type": "code",
      "metadata": {
        "id": "HG0dUiqsiMj1"
      },
      "source": [
        "#### import the libraries required for implementation. \n",
        "import torch \n",
        "from torch import nn \n",
        "import sklearn \n",
        "import pandas as pd \n",
        "import numpy as np \n",
        "import skimage\n",
        "import skorch \n",
        "import os \n",
        "# Creating the Bag of Words model\n",
        "from sklearn.feature_extraction.text import CountVectorizer\n",
        "import warnings \n",
        "warnings.filterwarnings(\"ignore\")"
      ],
      "execution_count": 4,
      "outputs": []
    },
    {
      "cell_type": "code",
      "metadata": {
        "id": "dSJzIxzR4JFd",
        "colab": {
          "base_uri": "https://localhost:8080/"
        },
        "outputId": "fb4417c8-e48b-4bc2-b59a-d493bf455a07"
      },
      "source": [
        "%ls -sh"
      ],
      "execution_count": 5,
      "outputs": [
        {
          "output_type": "stream",
          "text": [
            "total 802M\n",
            "165K Genetic_engineering_project.ipynb  317M train_labels.csv\n",
            " 95M submission_format_3TFRxH6.csv      301M train_values.csv\n",
            " 91M test_values.csv\n"
          ],
          "name": "stdout"
        }
      ]
    },
    {
      "cell_type": "markdown",
      "metadata": {
        "id": "M1SFBJXgY-6a"
      },
      "source": [
        "### Import the dataset for analysis... "
      ]
    },
    {
      "cell_type": "code",
      "metadata": {
        "id": "_1kHnARm3rDt"
      },
      "source": [
        "## import the dataset into our environment \n",
        "trains_set = pd.read_csv(\"train_values.csv\",index_col='sequence_id')\n",
        "test_set = pd.read_csv(\"test_values.csv\",index_col='sequence_id')\n",
        "train_labels = pd.read_csv(\"train_labels.csv\",index_col='sequence_id')"
      ],
      "execution_count": 6,
      "outputs": []
    },
    {
      "cell_type": "code",
      "metadata": {
        "id": "U1byPHoX46B5",
        "colab": {
          "base_uri": "https://localhost:8080/"
        },
        "outputId": "b2f1f93a-88cf-4448-8e82-7277f0c02842"
      },
      "source": [
        "print(\"Shape of the trainset: \",trains_set.shape)\n",
        "print(\"Shape of the testset: \",test_set.shape)\n",
        "print(\"Shape of the train_labels: \", train_labels.shape)"
      ],
      "execution_count": 7,
      "outputs": [
        {
          "output_type": "stream",
          "text": [
            "Shape of the trainset:  (63017, 40)\n",
            "Shape of the testset:  (18816, 40)\n",
            "Shape of the train_labels:  (63017, 1314)\n"
          ],
          "name": "stdout"
        }
      ]
    },
    {
      "cell_type": "code",
      "metadata": {
        "id": "pS-D3hPz5Yee",
        "colab": {
          "base_uri": "https://localhost:8080/"
        },
        "outputId": "9ce0f4ae-affc-4ce9-cc1d-549929a15657"
      },
      "source": [
        "trains_set.dtypes"
      ],
      "execution_count": 8,
      "outputs": [
        {
          "output_type": "execute_result",
          "data": {
            "text/plain": [
              "sequence                                 object\n",
              "bacterial_resistance_ampicillin         float64\n",
              "bacterial_resistance_chloramphenicol    float64\n",
              "bacterial_resistance_kanamycin          float64\n",
              "bacterial_resistance_other              float64\n",
              "bacterial_resistance_spectinomycin      float64\n",
              "copy_number_high_copy                   float64\n",
              "copy_number_low_copy                    float64\n",
              "copy_number_unknown                     float64\n",
              "growth_strain_ccdb_survival             float64\n",
              "growth_strain_dh10b                     float64\n",
              "growth_strain_dh5alpha                  float64\n",
              "growth_strain_neb_stable                float64\n",
              "growth_strain_other                     float64\n",
              "growth_strain_stbl3                     float64\n",
              "growth_strain_top10                     float64\n",
              "growth_strain_xl1_blue                  float64\n",
              "growth_temp_30                          float64\n",
              "growth_temp_37                          float64\n",
              "growth_temp_other                       float64\n",
              "selectable_markers_blasticidin          float64\n",
              "selectable_markers_his3                 float64\n",
              "selectable_markers_hygromycin           float64\n",
              "selectable_markers_leu2                 float64\n",
              "selectable_markers_neomycin             float64\n",
              "selectable_markers_other                float64\n",
              "selectable_markers_puromycin            float64\n",
              "selectable_markers_trp1                 float64\n",
              "selectable_markers_ura3                 float64\n",
              "selectable_markers_zeocin               float64\n",
              "species_budding_yeast                   float64\n",
              "species_fly                             float64\n",
              "species_human                           float64\n",
              "species_mouse                           float64\n",
              "species_mustard_weed                    float64\n",
              "species_nematode                        float64\n",
              "species_other                           float64\n",
              "species_rat                             float64\n",
              "species_synthetic                       float64\n",
              "species_zebrafish                       float64\n",
              "dtype: object"
            ]
          },
          "metadata": {
            "tags": []
          },
          "execution_count": 8
        }
      ]
    },
    {
      "cell_type": "code",
      "metadata": {
        "id": "7zmkg1fc59YP",
        "colab": {
          "base_uri": "https://localhost:8080/",
          "height": 248
        },
        "outputId": "6e360cbf-39b3-4252-9611-8a276dd420e9"
      },
      "source": [
        "### Visualize the head of the dataset\n",
        "trains_set.head()"
      ],
      "execution_count": 9,
      "outputs": [
        {
          "output_type": "execute_result",
          "data": {
            "text/html": [
              "<div>\n",
              "<style scoped>\n",
              "    .dataframe tbody tr th:only-of-type {\n",
              "        vertical-align: middle;\n",
              "    }\n",
              "\n",
              "    .dataframe tbody tr th {\n",
              "        vertical-align: top;\n",
              "    }\n",
              "\n",
              "    .dataframe thead th {\n",
              "        text-align: right;\n",
              "    }\n",
              "</style>\n",
              "<table border=\"1\" class=\"dataframe\">\n",
              "  <thead>\n",
              "    <tr style=\"text-align: right;\">\n",
              "      <th></th>\n",
              "      <th>sequence</th>\n",
              "      <th>bacterial_resistance_ampicillin</th>\n",
              "      <th>bacterial_resistance_chloramphenicol</th>\n",
              "      <th>bacterial_resistance_kanamycin</th>\n",
              "      <th>bacterial_resistance_other</th>\n",
              "      <th>bacterial_resistance_spectinomycin</th>\n",
              "      <th>copy_number_high_copy</th>\n",
              "      <th>copy_number_low_copy</th>\n",
              "      <th>copy_number_unknown</th>\n",
              "      <th>growth_strain_ccdb_survival</th>\n",
              "      <th>growth_strain_dh10b</th>\n",
              "      <th>growth_strain_dh5alpha</th>\n",
              "      <th>growth_strain_neb_stable</th>\n",
              "      <th>growth_strain_other</th>\n",
              "      <th>growth_strain_stbl3</th>\n",
              "      <th>growth_strain_top10</th>\n",
              "      <th>growth_strain_xl1_blue</th>\n",
              "      <th>growth_temp_30</th>\n",
              "      <th>growth_temp_37</th>\n",
              "      <th>growth_temp_other</th>\n",
              "      <th>selectable_markers_blasticidin</th>\n",
              "      <th>selectable_markers_his3</th>\n",
              "      <th>selectable_markers_hygromycin</th>\n",
              "      <th>selectable_markers_leu2</th>\n",
              "      <th>selectable_markers_neomycin</th>\n",
              "      <th>selectable_markers_other</th>\n",
              "      <th>selectable_markers_puromycin</th>\n",
              "      <th>selectable_markers_trp1</th>\n",
              "      <th>selectable_markers_ura3</th>\n",
              "      <th>selectable_markers_zeocin</th>\n",
              "      <th>species_budding_yeast</th>\n",
              "      <th>species_fly</th>\n",
              "      <th>species_human</th>\n",
              "      <th>species_mouse</th>\n",
              "      <th>species_mustard_weed</th>\n",
              "      <th>species_nematode</th>\n",
              "      <th>species_other</th>\n",
              "      <th>species_rat</th>\n",
              "      <th>species_synthetic</th>\n",
              "      <th>species_zebrafish</th>\n",
              "    </tr>\n",
              "    <tr>\n",
              "      <th>sequence_id</th>\n",
              "      <th></th>\n",
              "      <th></th>\n",
              "      <th></th>\n",
              "      <th></th>\n",
              "      <th></th>\n",
              "      <th></th>\n",
              "      <th></th>\n",
              "      <th></th>\n",
              "      <th></th>\n",
              "      <th></th>\n",
              "      <th></th>\n",
              "      <th></th>\n",
              "      <th></th>\n",
              "      <th></th>\n",
              "      <th></th>\n",
              "      <th></th>\n",
              "      <th></th>\n",
              "      <th></th>\n",
              "      <th></th>\n",
              "      <th></th>\n",
              "      <th></th>\n",
              "      <th></th>\n",
              "      <th></th>\n",
              "      <th></th>\n",
              "      <th></th>\n",
              "      <th></th>\n",
              "      <th></th>\n",
              "      <th></th>\n",
              "      <th></th>\n",
              "      <th></th>\n",
              "      <th></th>\n",
              "      <th></th>\n",
              "      <th></th>\n",
              "      <th></th>\n",
              "      <th></th>\n",
              "      <th></th>\n",
              "      <th></th>\n",
              "      <th></th>\n",
              "      <th></th>\n",
              "      <th></th>\n",
              "    </tr>\n",
              "  </thead>\n",
              "  <tbody>\n",
              "    <tr>\n",
              "      <th>9ZIMC</th>\n",
              "      <td>CATGCATTAGTTATTAATAGTAATCAATTACGGGGTCATTAGTTCA...</td>\n",
              "      <td>0.0</td>\n",
              "      <td>0.0</td>\n",
              "      <td>1.0</td>\n",
              "      <td>0.0</td>\n",
              "      <td>0.0</td>\n",
              "      <td>1.0</td>\n",
              "      <td>0.0</td>\n",
              "      <td>0.0</td>\n",
              "      <td>0.0</td>\n",
              "      <td>0.0</td>\n",
              "      <td>1.0</td>\n",
              "      <td>0.0</td>\n",
              "      <td>0.0</td>\n",
              "      <td>0.0</td>\n",
              "      <td>0.0</td>\n",
              "      <td>0.0</td>\n",
              "      <td>0.0</td>\n",
              "      <td>1.0</td>\n",
              "      <td>0.0</td>\n",
              "      <td>0.0</td>\n",
              "      <td>0.0</td>\n",
              "      <td>0.0</td>\n",
              "      <td>0.0</td>\n",
              "      <td>0.0</td>\n",
              "      <td>0.0</td>\n",
              "      <td>0.0</td>\n",
              "      <td>0.0</td>\n",
              "      <td>0.0</td>\n",
              "      <td>0.0</td>\n",
              "      <td>0.0</td>\n",
              "      <td>0.0</td>\n",
              "      <td>0.0</td>\n",
              "      <td>1.0</td>\n",
              "      <td>0.0</td>\n",
              "      <td>0.0</td>\n",
              "      <td>0.0</td>\n",
              "      <td>0.0</td>\n",
              "      <td>0.0</td>\n",
              "      <td>0.0</td>\n",
              "    </tr>\n",
              "    <tr>\n",
              "      <th>5SAQC</th>\n",
              "      <td>GCTGGATGGTTTGGGACATGTGCAGCCCCGTCTCTGTATGGAGTGA...</td>\n",
              "      <td>1.0</td>\n",
              "      <td>0.0</td>\n",
              "      <td>0.0</td>\n",
              "      <td>0.0</td>\n",
              "      <td>0.0</td>\n",
              "      <td>1.0</td>\n",
              "      <td>0.0</td>\n",
              "      <td>0.0</td>\n",
              "      <td>0.0</td>\n",
              "      <td>0.0</td>\n",
              "      <td>1.0</td>\n",
              "      <td>0.0</td>\n",
              "      <td>0.0</td>\n",
              "      <td>0.0</td>\n",
              "      <td>0.0</td>\n",
              "      <td>0.0</td>\n",
              "      <td>0.0</td>\n",
              "      <td>1.0</td>\n",
              "      <td>0.0</td>\n",
              "      <td>0.0</td>\n",
              "      <td>0.0</td>\n",
              "      <td>0.0</td>\n",
              "      <td>0.0</td>\n",
              "      <td>0.0</td>\n",
              "      <td>0.0</td>\n",
              "      <td>0.0</td>\n",
              "      <td>0.0</td>\n",
              "      <td>0.0</td>\n",
              "      <td>0.0</td>\n",
              "      <td>0.0</td>\n",
              "      <td>0.0</td>\n",
              "      <td>0.0</td>\n",
              "      <td>1.0</td>\n",
              "      <td>0.0</td>\n",
              "      <td>0.0</td>\n",
              "      <td>0.0</td>\n",
              "      <td>0.0</td>\n",
              "      <td>0.0</td>\n",
              "      <td>0.0</td>\n",
              "    </tr>\n",
              "    <tr>\n",
              "      <th>E7QRO</th>\n",
              "      <td>NNCCGGGCTGTAGCTACACAGGGCGGAGATGAGAGCCCTACGAAAG...</td>\n",
              "      <td>1.0</td>\n",
              "      <td>0.0</td>\n",
              "      <td>0.0</td>\n",
              "      <td>0.0</td>\n",
              "      <td>0.0</td>\n",
              "      <td>1.0</td>\n",
              "      <td>0.0</td>\n",
              "      <td>0.0</td>\n",
              "      <td>0.0</td>\n",
              "      <td>0.0</td>\n",
              "      <td>1.0</td>\n",
              "      <td>0.0</td>\n",
              "      <td>0.0</td>\n",
              "      <td>0.0</td>\n",
              "      <td>0.0</td>\n",
              "      <td>0.0</td>\n",
              "      <td>0.0</td>\n",
              "      <td>1.0</td>\n",
              "      <td>0.0</td>\n",
              "      <td>0.0</td>\n",
              "      <td>0.0</td>\n",
              "      <td>0.0</td>\n",
              "      <td>0.0</td>\n",
              "      <td>0.0</td>\n",
              "      <td>0.0</td>\n",
              "      <td>0.0</td>\n",
              "      <td>0.0</td>\n",
              "      <td>0.0</td>\n",
              "      <td>0.0</td>\n",
              "      <td>0.0</td>\n",
              "      <td>0.0</td>\n",
              "      <td>0.0</td>\n",
              "      <td>1.0</td>\n",
              "      <td>0.0</td>\n",
              "      <td>0.0</td>\n",
              "      <td>0.0</td>\n",
              "      <td>0.0</td>\n",
              "      <td>0.0</td>\n",
              "      <td>0.0</td>\n",
              "    </tr>\n",
              "    <tr>\n",
              "      <th>CT5FP</th>\n",
              "      <td>GCGGAGATGAAGAGCCCTACGAAAGCTGAGCCTGCGACTCCCGCAG...</td>\n",
              "      <td>1.0</td>\n",
              "      <td>0.0</td>\n",
              "      <td>0.0</td>\n",
              "      <td>0.0</td>\n",
              "      <td>0.0</td>\n",
              "      <td>1.0</td>\n",
              "      <td>0.0</td>\n",
              "      <td>0.0</td>\n",
              "      <td>0.0</td>\n",
              "      <td>0.0</td>\n",
              "      <td>1.0</td>\n",
              "      <td>0.0</td>\n",
              "      <td>0.0</td>\n",
              "      <td>0.0</td>\n",
              "      <td>0.0</td>\n",
              "      <td>0.0</td>\n",
              "      <td>0.0</td>\n",
              "      <td>1.0</td>\n",
              "      <td>0.0</td>\n",
              "      <td>0.0</td>\n",
              "      <td>0.0</td>\n",
              "      <td>0.0</td>\n",
              "      <td>0.0</td>\n",
              "      <td>0.0</td>\n",
              "      <td>0.0</td>\n",
              "      <td>0.0</td>\n",
              "      <td>0.0</td>\n",
              "      <td>0.0</td>\n",
              "      <td>0.0</td>\n",
              "      <td>0.0</td>\n",
              "      <td>0.0</td>\n",
              "      <td>0.0</td>\n",
              "      <td>1.0</td>\n",
              "      <td>0.0</td>\n",
              "      <td>0.0</td>\n",
              "      <td>0.0</td>\n",
              "      <td>0.0</td>\n",
              "      <td>0.0</td>\n",
              "      <td>0.0</td>\n",
              "    </tr>\n",
              "    <tr>\n",
              "      <th>7PTD8</th>\n",
              "      <td>CGCGCATTACTTCACATGGTCCTCAAGGGTAACATGAAAGTGATCC...</td>\n",
              "      <td>1.0</td>\n",
              "      <td>0.0</td>\n",
              "      <td>0.0</td>\n",
              "      <td>0.0</td>\n",
              "      <td>0.0</td>\n",
              "      <td>1.0</td>\n",
              "      <td>0.0</td>\n",
              "      <td>0.0</td>\n",
              "      <td>0.0</td>\n",
              "      <td>0.0</td>\n",
              "      <td>1.0</td>\n",
              "      <td>0.0</td>\n",
              "      <td>0.0</td>\n",
              "      <td>0.0</td>\n",
              "      <td>0.0</td>\n",
              "      <td>0.0</td>\n",
              "      <td>0.0</td>\n",
              "      <td>1.0</td>\n",
              "      <td>0.0</td>\n",
              "      <td>0.0</td>\n",
              "      <td>0.0</td>\n",
              "      <td>0.0</td>\n",
              "      <td>0.0</td>\n",
              "      <td>0.0</td>\n",
              "      <td>0.0</td>\n",
              "      <td>0.0</td>\n",
              "      <td>0.0</td>\n",
              "      <td>0.0</td>\n",
              "      <td>0.0</td>\n",
              "      <td>0.0</td>\n",
              "      <td>0.0</td>\n",
              "      <td>0.0</td>\n",
              "      <td>1.0</td>\n",
              "      <td>0.0</td>\n",
              "      <td>0.0</td>\n",
              "      <td>0.0</td>\n",
              "      <td>0.0</td>\n",
              "      <td>0.0</td>\n",
              "      <td>0.0</td>\n",
              "    </tr>\n",
              "  </tbody>\n",
              "</table>\n",
              "</div>"
            ],
            "text/plain": [
              "                                                      sequence  ...  species_zebrafish\n",
              "sequence_id                                                     ...                   \n",
              "9ZIMC        CATGCATTAGTTATTAATAGTAATCAATTACGGGGTCATTAGTTCA...  ...                0.0\n",
              "5SAQC        GCTGGATGGTTTGGGACATGTGCAGCCCCGTCTCTGTATGGAGTGA...  ...                0.0\n",
              "E7QRO        NNCCGGGCTGTAGCTACACAGGGCGGAGATGAGAGCCCTACGAAAG...  ...                0.0\n",
              "CT5FP        GCGGAGATGAAGAGCCCTACGAAAGCTGAGCCTGCGACTCCCGCAG...  ...                0.0\n",
              "7PTD8        CGCGCATTACTTCACATGGTCCTCAAGGGTAACATGAAAGTGATCC...  ...                0.0\n",
              "\n",
              "[5 rows x 40 columns]"
            ]
          },
          "metadata": {
            "tags": []
          },
          "execution_count": 9
        }
      ]
    },
    {
      "cell_type": "code",
      "metadata": {
        "id": "CHTbk7C56EKC",
        "colab": {
          "base_uri": "https://localhost:8080/"
        },
        "outputId": "816f5ee8-f504-4a29-a015-ce0dd4d830ce"
      },
      "source": [
        "### Description of the sequence column \n",
        "trains_set.sequence.apply(len).describe()"
      ],
      "execution_count": 10,
      "outputs": [
        {
          "output_type": "execute_result",
          "data": {
            "text/plain": [
              "count    63017.000000\n",
              "mean      4839.025501\n",
              "std       3883.148431\n",
              "min         20.000000\n",
              "25%        909.000000\n",
              "50%       4741.000000\n",
              "75%       7490.000000\n",
              "max      60099.000000\n",
              "Name: sequence, dtype: float64"
            ]
          },
          "metadata": {
            "tags": []
          },
          "execution_count": 10
        }
      ]
    },
    {
      "cell_type": "code",
      "metadata": {
        "id": "-tJNvToB61Sp"
      },
      "source": [
        "from matplotlib import pyplot as plt \n",
        "import seaborn as sns \n",
        "%matplotlib inline\n",
        "sns.set()\n",
        "def analyse_seq(df):\n",
        "  df = df.copy()\n",
        "  df.sequence.apply(len).plot(kind=\"hist\",\n",
        "                                    title= \"Distribution of sequence length\",\n",
        "                                    bins=100,\n",
        "                                    xlim=(0,20000)) \n",
        "  plt.show()"
      ],
      "execution_count": 11,
      "outputs": []
    },
    {
      "cell_type": "code",
      "metadata": {
        "colab": {
          "base_uri": "https://localhost:8080/",
          "height": 551
        },
        "id": "k-6gGl0udg2y",
        "outputId": "0116b588-c5d3-478c-89eb-16b92ffff843"
      },
      "source": [
        "for df in [trains_set,test_set]:\n",
        "  analyse_seq(df)"
      ],
      "execution_count": 13,
      "outputs": [
        {
          "output_type": "display_data",
          "data": {
            "image/png": "[encoded data removed]",
            "text/plain": [
              "<Figure size 432x288 with 1 Axes>"
            ]
          },
          "metadata": {
            "tags": []
          }
        },
        {
          "output_type": "display_data",
          "data": {
            "image/png": "[encoded data removed]",
            "text/plain": [
              "<Figure size 432x288 with 1 Axes>"
            ]
          },
          "metadata": {
            "tags": []
          }
        }
      ]
    },
    {
      "cell_type": "code",
      "metadata": {
        "id": "gZW-ua7P_JJx",
        "colab": {
          "base_uri": "https://localhost:8080/",
          "height": 736
        },
        "outputId": "fc9ba333-1610-475f-b720-7111d56ce15f"
      },
      "source": [
        "### Binary feature description of the dataset. \n",
        "binary_features_sorted = trains_set.iloc[:,1:].mean().sort_values()\n",
        "ax = binary_features_sorted.plot(kind=\"barh\",\n",
        "                                 stacked=True,\n",
        "                                 figsize = (5,12),\n",
        "                                 title =\"Average binary records\")\n",
        "ax.set_xlabel(\"Proportion of sequence\")\n",
        "plt.show()"
      ],
      "execution_count": 12,
      "outputs": [
        {
          "output_type": "display_data",
          "data": {
            "image/png": "[encoded data removed]",
            "text/plain": [
              "<Figure size 360x864 with 1 Axes>"
            ]
          },
          "metadata": {
            "tags": []
          }
        }
      ]
    },
    {
      "cell_type": "code",
      "metadata": {
        "id": "xCcVjSGhB6cZ",
        "colab": {
          "base_uri": "https://localhost:8080/"
        },
        "outputId": "3861c625-e395-4018-e73e-7e1c0e33dae2"
      },
      "source": [
        "### for the test case\n",
        "test_set.sequence.apply(len).describe()"
      ],
      "execution_count": 14,
      "outputs": [
        {
          "output_type": "execute_result",
          "data": {
            "text/plain": [
              "count    18816.000000\n",
              "mean      4875.523810\n",
              "std       4004.117614\n",
              "min         19.000000\n",
              "25%        894.750000\n",
              "50%       4732.000000\n",
              "75%       7341.250000\n",
              "max      38638.000000\n",
              "Name: sequence, dtype: float64"
            ]
          },
          "metadata": {
            "tags": []
          },
          "execution_count": 14
        }
      ]
    },
    {
      "cell_type": "code",
      "metadata": {
        "id": "Jv6h-lqRCOlH",
        "colab": {
          "base_uri": "https://localhost:8080/",
          "height": 228
        },
        "outputId": "d157c1f9-ea5e-481c-e84f-52a56443ca9a"
      },
      "source": [
        "### create dataframe for the label id\n",
        "label_id = pd.DataFrame(train_labels.idxmax(axis=1),columns=[\"Lab_id\"])\n",
        "label_id.head()"
      ],
      "execution_count": 15,
      "outputs": [
        {
          "output_type": "execute_result",
          "data": {
            "text/html": [
              "<div>\n",
              "<style scoped>\n",
              "    .dataframe tbody tr th:only-of-type {\n",
              "        vertical-align: middle;\n",
              "    }\n",
              "\n",
              "    .dataframe tbody tr th {\n",
              "        vertical-align: top;\n",
              "    }\n",
              "\n",
              "    .dataframe thead th {\n",
              "        text-align: right;\n",
              "    }\n",
              "</style>\n",
              "<table border=\"1\" class=\"dataframe\">\n",
              "  <thead>\n",
              "    <tr style=\"text-align: right;\">\n",
              "      <th></th>\n",
              "      <th>Lab_id</th>\n",
              "    </tr>\n",
              "    <tr>\n",
              "      <th>sequence_id</th>\n",
              "      <th></th>\n",
              "    </tr>\n",
              "  </thead>\n",
              "  <tbody>\n",
              "    <tr>\n",
              "      <th>9ZIMC</th>\n",
              "      <td>RYUA3GVO</td>\n",
              "    </tr>\n",
              "    <tr>\n",
              "      <th>5SAQC</th>\n",
              "      <td>RYUA3GVO</td>\n",
              "    </tr>\n",
              "    <tr>\n",
              "      <th>E7QRO</th>\n",
              "      <td>RYUA3GVO</td>\n",
              "    </tr>\n",
              "    <tr>\n",
              "      <th>CT5FP</th>\n",
              "      <td>RYUA3GVO</td>\n",
              "    </tr>\n",
              "    <tr>\n",
              "      <th>7PTD8</th>\n",
              "      <td>RYUA3GVO</td>\n",
              "    </tr>\n",
              "  </tbody>\n",
              "</table>\n",
              "</div>"
            ],
            "text/plain": [
              "               Lab_id\n",
              "sequence_id          \n",
              "9ZIMC        RYUA3GVO\n",
              "5SAQC        RYUA3GVO\n",
              "E7QRO        RYUA3GVO\n",
              "CT5FP        RYUA3GVO\n",
              "7PTD8        RYUA3GVO"
            ]
          },
          "metadata": {
            "tags": []
          },
          "execution_count": 15
        }
      ]
    },
    {
      "cell_type": "code",
      "metadata": {
        "id": "edKq0zQ8C92d",
        "colab": {
          "base_uri": "https://localhost:8080/"
        },
        "outputId": "862e1e09-7125-42ab-aa87-0bb97f86c28a"
      },
      "source": [
        "### multiple label scenario of each row in the dataset\n",
        "label_id.shape"
      ],
      "execution_count": 16,
      "outputs": [
        {
          "output_type": "execute_result",
          "data": {
            "text/plain": [
              "(63017, 1)"
            ]
          },
          "metadata": {
            "tags": []
          },
          "execution_count": 16
        }
      ]
    },
    {
      "cell_type": "markdown",
      "metadata": {
        "id": "bmklMmzPhfpa"
      },
      "source": [
        "<h1> <center> Preprocessing of the Data </center></h1>\n",
        "\n",
        "- First,have to implement a Kmers algorithm to have uniform vector of sequence. "
      ]
    },
    {
      "cell_type": "code",
      "metadata": {
        "id": "AABlAF1Deoki"
      },
      "source": [
        "## Kmers algorithm \n",
        "def getKmers(sequence, size):\n",
        "    return [sequence[x:x+size].lower() for x in range(len(sequence) - size + 1)]\n",
        "  \n",
        "def preprocess_sequence(df,column):\n",
        "\n",
        "  df = df.copy()\n",
        "  x_ = []\n",
        "  for row in df[column]:\n",
        "    x_.append(\" \".join(getKmers(row,size=6)))\n",
        "  return x_"
      ],
      "execution_count": 9,
      "outputs": []
    },
    {
      "cell_type": "code",
      "metadata": {
        "id": "H7YDNoYdi4KX"
      },
      "source": [
        "### access the concatenated sequence. \n",
        "x_train = preprocess_sequence(df= trains_set,column=\"sequence\")\n",
        "x_test = preprocess_sequence(df = test_set,column=\"sequence\")"
      ],
      "execution_count": 10,
      "outputs": []
    },
    {
      "cell_type": "markdown",
      "metadata": {
        "id": "cHyH4yLHk6UQ"
      },
      "source": [
        "### Tranformation of the sequence dataset. "
      ]
    },
    {
      "cell_type": "code",
      "metadata": {
        "id": "DZASELmYj4Mc"
      },
      "source": [
        "cv = CountVectorizer()\n",
        "cv.fit(x_train)\n",
        "X_train  = cv.transform(x_train).toarray()\n",
        "X_test = cv.transform(x_test).toarray()"
      ],
      "execution_count": 11,
      "outputs": []
    },
    {
      "cell_type": "code",
      "metadata": {
        "id": "MfzGVJPRxmz8",
        "colab": {
          "base_uri": "https://localhost:8080/"
        },
        "outputId": "e016b764-7e7d-493a-c6df-6f7a1b344d46"
      },
      "source": [
        "X_train.shape , X_test.shape"
      ],
      "execution_count": 20,
      "outputs": [
        {
          "output_type": "execute_result",
          "data": {
            "text/plain": [
              "((63017, 15532), (18816, 15532))"
            ]
          },
          "metadata": {
            "tags": []
          },
          "execution_count": 20
        }
      ]
    },
    {
      "cell_type": "code",
      "metadata": {
        "id": "clmCgMsKwLJW"
      },
      "source": [
        "del X_train , X_test"
      ],
      "execution_count": 33,
      "outputs": []
    },
    {
      "cell_type": "code",
      "metadata": {
        "id": "6xps2MWpxnuR"
      },
      "source": [
        "# from sklearn.preprocessing import StandardScaler\n",
        "# sca = StandardScaler()\n",
        "# sca.fit(trains_set.iloc[:,1:].values)\n",
        "# rest_trainset = sca.transform(trains_set.iloc[:,1:].values)\n",
        "# rest_testset = sca.transform(test_set.iloc[:,1:].values)\n",
        "# combine_trainset = np.concatenate([X_train,rest_trainset],axis=1)\n",
        "# combine_testset = np.concatenate([X_test,rest_testset],axis=1)"
      ],
      "execution_count": 25,
      "outputs": []
    },
    {
      "cell_type": "code",
      "metadata": {
        "id": "XXu4QNwjwT_e"
      },
      "source": [
        "from sklearn.model_selection import train_test_split\n",
        "xtrainset , xtestset, ytrain , ytest = train_test_split(X_train,train_labels.values,random_state=100,test_size=25)"
      ],
      "execution_count": 12,
      "outputs": []
    },
    {
      "cell_type": "code",
      "metadata": {
        "colab": {
          "base_uri": "https://localhost:8080/"
        },
        "id": "zpPbjw33wTav",
        "outputId": "cdc0c67d-4a06-4293-df7e-db71b06054a2"
      },
      "source": [
        "xtrainset.shape , xtestset.shape , ytrain.shape ,ytest.shape "
      ],
      "execution_count": 13,
      "outputs": [
        {
          "output_type": "execute_result",
          "data": {
            "text/plain": [
              "((62992, 15532), (25, 15532), (62992, 1314), (25, 1314))"
            ]
          },
          "metadata": {
            "tags": []
          },
          "execution_count": 13
        }
      ]
    },
    {
      "cell_type": "markdown",
      "metadata": {
        "id": "v33-n28s_bgp"
      },
      "source": [
        "### Modeling phase "
      ]
    },
    {
      "cell_type": "code",
      "metadata": {
        "id": "OCsa4Q9GwTL_"
      },
      "source": [
        "from sklearn.ensemble import RandomForestClassifier\n",
        "from sklearn.tree import DecisionTreeClassifier,ExtraTreeClassifier\n",
        "from sklearn.neighbors import KNeighborsClassifier\n",
        "\n",
        "model = RandomForestClassifier(random_state=100)\n",
        "model.fit(xtrainset,ytrain)"
      ],
      "execution_count": null,
      "outputs": []
    },
    {
      "cell_type": "code",
      "metadata": {
        "id": "IyEhdsci7G4I"
      },
      "source": [
        ""
      ],
      "execution_count": null,
      "outputs": []
    }
  ]
}